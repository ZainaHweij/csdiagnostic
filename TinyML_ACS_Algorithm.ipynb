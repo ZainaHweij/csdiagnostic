{
  "nbformat": 4,
  "nbformat_minor": 0,
  "metadata": {
    "colab": {
      "provenance": [],
      "toc_visible": true,
      "include_colab_link": true
    },
    "kernelspec": {
      "name": "python3",
      "display_name": "Python 3"
    },
    "language_info": {
      "name": "python"
    }
  },
  "cells": [
    {
      "cell_type": "markdown",
      "metadata": {
        "id": "view-in-github",
        "colab_type": "text"
      },
      "source": [
        "<a href=\"https://colab.research.google.com/github/ZainaHweij/csdiagnostic/blob/main/TinyML_ACS_Algorithm.ipynb\" target=\"_parent\"><img src=\"https://colab.research.google.com/assets/colab-badge.svg\" alt=\"Open In Colab\"/></a>"
      ]
    },
    {
      "cell_type": "code",
      "execution_count": null,
      "metadata": {
        "id": "6_bv2mzPhvWK",
        "colab": {
          "base_uri": "https://localhost:8080/"
        },
        "outputId": "b78d52e2-fe94-4f79-b484-70f7b75072aa"
      },
      "outputs": [
        {
          "output_type": "stream",
          "name": "stdout",
          "text": [
            "Drive already mounted at /content/drive; to attempt to forcibly remount, call drive.mount(\"/content/drive\", force_remount=True).\n",
            "Epoch 1/10\n",
            "1/1 [==============================] - 1s 1s/step - loss: 0.3562 - val_loss: 0.8388\n",
            "Epoch 2/10\n",
            "1/1 [==============================] - 0s 49ms/step - loss: 0.3366 - val_loss: 0.7975\n",
            "Epoch 3/10\n",
            "1/1 [==============================] - 0s 71ms/step - loss: 0.3177 - val_loss: 0.7572\n",
            "Epoch 4/10\n",
            "1/1 [==============================] - 0s 72ms/step - loss: 0.2994 - val_loss: 0.7179\n",
            "Epoch 5/10\n",
            "1/1 [==============================] - 0s 71ms/step - loss: 0.2817 - val_loss: 0.6799\n",
            "Epoch 6/10\n",
            "1/1 [==============================] - 0s 57ms/step - loss: 0.2647 - val_loss: 0.6431\n",
            "Epoch 7/10\n",
            "1/1 [==============================] - 0s 69ms/step - loss: 0.2484 - val_loss: 0.6075\n",
            "Epoch 8/10\n",
            "1/1 [==============================] - 0s 54ms/step - loss: 0.2327 - val_loss: 0.5731\n",
            "Epoch 9/10\n",
            "1/1 [==============================] - 0s 50ms/step - loss: 0.2178 - val_loss: 0.5399\n",
            "Epoch 10/10\n",
            "1/1 [==============================] - 0s 73ms/step - loss: 0.2035 - val_loss: 0.5079\n"
          ]
        }
      ],
      "source": [
        "# Step 2: Write and Train the Regression Algorithm\n",
        "\n",
        "# Import Libraries\n",
        "import tensorflow as tf\n",
        "import numpy as np\n",
        "import pandas as pd\n",
        "from sklearn.preprocessing import MinMaxScaler\n",
        "from sklearn.model_selection import train_test_split\n",
        "\n",
        "# Mount Google Drive\n",
        "from google.colab import drive\n",
        "drive.mount('/content/drive')\n",
        "\n",
        "# Load dataset fsr_data.csv\n",
        "df = pd.read_csv('/content/drive/My Drive/SEF 2023-2024/TinyML/fsr_data.csv')\n",
        "\n",
        "# Prepare data for training\n",
        "scaler = MinMaxScaler()\n",
        "df[['sensor1', 'sensor2', 'ground_truth']] = scaler.fit_transform(df[['sensor1', 'sensor2', 'ground_truth']])\n",
        "\n",
        "# Split data into features (X) and target (y)\n",
        "X = df[['sensor1', 'sensor2']]\n",
        "y = df['ground_truth']\n",
        "\n",
        "# Split data into training and testing sets\n",
        "X_train, X_test, y_train, y_test = train_test_split(X, y, test_size=0.2, random_state=42)\n",
        "\n",
        "# Build the Model\n",
        "model = tf.keras.Sequential([\n",
        "    tf.keras.layers.Dense(64, activation='relu', input_shape=(2,)),  # Assuming 2 features (sensor readings)\n",
        "    tf.keras.layers.Dense(1)  # Output layer for regression\n",
        "])\n",
        "\n",
        "# Train the Model\n",
        "model.compile(optimizer='adam', loss='mean_squared_error')\n",
        "model.fit(X_train, y_train, epochs=10, validation_data=(X_test, y_test))\n",
        "\n",
        "# Convert to TensorFlow Lite\n",
        "converter = tf.lite.TFLiteConverter.from_keras_model(model)\n",
        "tflite_model = converter.convert()\n",
        "\n",
        "# Save the TFLite model\n",
        "with open('/content/drive/My Drive/SEF 2023-2024/TinyML/model.tflite', 'wb') as f:\n",
        "    f.write(tflite_model)"
      ]
    }
  ]
}
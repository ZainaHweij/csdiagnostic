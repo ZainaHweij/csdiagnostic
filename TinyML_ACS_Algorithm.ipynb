{
  "nbformat": 4,
  "nbformat_minor": 0,
  "metadata": {
    "colab": {
      "provenance": [],
      "include_colab_link": true
    },
    "kernelspec": {
      "name": "python3",
      "display_name": "Python 3"
    },
    "language_info": {
      "name": "python"
    }
  },
  "cells": [
    {
      "cell_type": "markdown",
      "metadata": {
        "id": "view-in-github",
        "colab_type": "text"
      },
      "source": [
        "<a href=\"https://colab.research.google.com/github/ZainaHweij/csdiagnostic/blob/main/TinyML_ACS_Algorithm.ipynb\" target=\"_parent\"><img src=\"https://colab.research.google.com/assets/colab-badge.svg\" alt=\"Open In Colab\"/></a>"
      ]
    },
    {
      "cell_type": "markdown",
      "source": [
        "### Train TensorFlow Lite regression algorithm"
      ],
      "metadata": {
        "id": "SJigNhN8WCV8"
      }
    },
    {
      "cell_type": "code",
      "execution_count": 32,
      "metadata": {
        "id": "6_bv2mzPhvWK",
        "colab": {
          "base_uri": "https://localhost:8080/"
        },
        "outputId": "fbf6919b-08c9-46fb-dfb6-5395ce0e8bf1"
      },
      "outputs": [
        {
          "output_type": "stream",
          "name": "stdout",
          "text": [
            "Drive already mounted at /content/drive; to attempt to forcibly remount, call drive.mount(\"/content/drive\", force_remount=True).\n",
            "Epoch 1/10\n",
            "3/3 [==============================] - 1s 72ms/step - loss: 0.4168 - val_loss: 0.3216\n",
            "Epoch 2/10\n",
            "3/3 [==============================] - 0s 16ms/step - loss: 0.3274 - val_loss: 0.2540\n",
            "Epoch 3/10\n",
            "3/3 [==============================] - 0s 22ms/step - loss: 0.2504 - val_loss: 0.1953\n",
            "Epoch 4/10\n",
            "3/3 [==============================] - 0s 17ms/step - loss: 0.1861 - val_loss: 0.1460\n",
            "Epoch 5/10\n",
            "3/3 [==============================] - 0s 16ms/step - loss: 0.1332 - val_loss: 0.1063\n",
            "Epoch 6/10\n",
            "3/3 [==============================] - 0s 25ms/step - loss: 0.0941 - val_loss: 0.0764\n",
            "Epoch 7/10\n",
            "3/3 [==============================] - 0s 16ms/step - loss: 0.0629 - val_loss: 0.0556\n",
            "Epoch 8/10\n",
            "3/3 [==============================] - 0s 16ms/step - loss: 0.0487 - val_loss: 0.0420\n",
            "Epoch 9/10\n",
            "3/3 [==============================] - 0s 16ms/step - loss: 0.0397 - val_loss: 0.0348\n",
            "Epoch 10/10\n",
            "3/3 [==============================] - 0s 15ms/step - loss: 0.0389 - val_loss: 0.0318\n"
          ]
        }
      ],
      "source": [
        "# Train Regression Algorithm\n",
        "\n",
        "# Import Libraries\n",
        "import tensorflow as tf\n",
        "import numpy as np\n",
        "import pandas as pd\n",
        "from sklearn.preprocessing import MinMaxScaler\n",
        "from sklearn.model_selection import train_test_split\n",
        "\n",
        "# Mount Google Drive\n",
        "from google.colab import drive\n",
        "drive.mount('/content/drive')\n",
        "\n",
        "# Load dataset fsr_data.csv\n",
        "df = pd.read_csv('/content/drive/My Drive/SEF 2023-2024/TinyML/fsr_data.csv')\n",
        "\n",
        "# Prepare data for training\n",
        "scaler = MinMaxScaler()\n",
        "df[['fsr_1', 'fsr_2','fsr_3','fsr_4','fsr_5','fsr_6','temp','humid','gyro', 'ground_truth']] = scaler.fit_transform(df[['fsr_1', 'fsr_2','fsr_3','fsr_4','fsr_5','fsr_6','temp','humid','gyro', 'ground_truth']])\n",
        "\n",
        "# Split data into features (X) and target (y)\n",
        "X = df[['fsr_1', 'fsr_2','fsr_3','fsr_4','fsr_5','fsr_6','temp','humid','gyro']]\n",
        "y = df['ground_truth']\n",
        "\n",
        "# Split data into training and testing sets\n",
        "X_train, X_test, y_train, y_test = train_test_split(X, y, test_size=0.2, random_state=42)\n",
        "\n",
        "# Build the Model\n",
        "model = tf.keras.Sequential([\n",
        "    tf.keras.layers.Dense(64, activation='relu', input_shape=(9,)),  # Assuming 9 features (sensor readings)\n",
        "    tf.keras.layers.Dense(1)  # Output layer for regression\n",
        "])\n",
        "\n",
        "# Train the Model\n",
        "model.compile(optimizer='adam', loss='mean_squared_error')\n",
        "model.fit(X_train, y_train, epochs=10, validation_data=(X_test, y_test))\n",
        "\n",
        "# Convert to TensorFlow Lite\n",
        "converter = tf.lite.TFLiteConverter.from_keras_model(model)\n",
        "tflite_model = converter.convert()\n",
        "\n",
        "# Save the TFLite model\n",
        "with open('/content/drive/My Drive/SEF 2023-2024/TinyML/model.tflite', 'wb') as f:\n",
        "    f.write(tflite_model)"
      ]
    },
    {
      "cell_type": "code",
      "source": [
        "# Model statistics\n",
        "\n",
        "# Evaluate the Model\n",
        "loss = model.evaluate(X_test, y_test)\n",
        "print(f'Mean Squared Error on Test Set: {loss}')\n",
        "\n",
        "# Predictions on Test Set\n",
        "y_pred = model.predict(X_test)\n",
        "\n",
        "# Calculate additional performance metrics if needed\n",
        "from sklearn.metrics import mean_absolute_error, r2_score\n",
        "\n",
        "mae = mean_absolute_error(y_test, y_pred)\n",
        "r2 = r2_score(y_test, y_pred)\n",
        "\n",
        "print(f'Mean Absolute Error on Test Set: {mae}')\n",
        "print(f'R-squared on Test Set: {r2}')"
      ],
      "metadata": {
        "colab": {
          "base_uri": "https://localhost:8080/"
        },
        "id": "2jwUg6H8W8Zv",
        "outputId": "cf3bdb07-e41d-40f5-f84d-bcee5db3c1ae"
      },
      "execution_count": 33,
      "outputs": [
        {
          "output_type": "stream",
          "name": "stdout",
          "text": [
            "1/1 [==============================] - 0s 28ms/step - loss: 0.0318\n",
            "Mean Squared Error on Test Set: 0.031819697469472885\n",
            "1/1 [==============================] - 0s 60ms/step\n",
            "Mean Absolute Error on Test Set: 0.13793128489915282\n",
            "R-squared on Test Set: 0.4949503045414373\n"
          ]
        }
      ]
    },
    {
      "cell_type": "markdown",
      "source": [
        "### Manually test trained model"
      ],
      "metadata": {
        "id": "6fENTHmEWSzh"
      }
    },
    {
      "cell_type": "code",
      "source": [
        "import numpy as np\n",
        "import tensorflow as tf\n",
        "\n",
        "# Load the TensorFlow Lite model\n",
        "model_path = '/content/drive/My Drive/SEF 2023-2024/TinyML/model.tflite'\n",
        "interpreter = tf.lite.Interpreter(model_path=model_path)\n",
        "interpreter.allocate_tensors()\n",
        "\n",
        "# Define a function to get input from the user\n",
        "def get_user_input():\n",
        "    # Ask the user for input values\n",
        "    fsr_1 = float(input(\"Enter FSR 1 value: \"))\n",
        "    fsr_2 = float(input(\"Enter FSR 2 value: \"))\n",
        "    fsr_3 = float(input(\"Enter FSR 3 value: \"))\n",
        "    fsr_4 = float(input(\"Enter FSR 4 value: \"))\n",
        "    fsr_5 = float(input(\"Enter FSR 5 value: \"))\n",
        "    fsr_6 = float(input(\"Enter FSR 6 value: \"))\n",
        "    temp = float(input(\"Enter temperature value: \"))\n",
        "    humid = float(input(\"Enter humidity value: \"))\n",
        "    gyro = float(input(\"Enter gyro value: \"))\n",
        "\n",
        "    # Create a numpy array with the user input\n",
        "    user_input = np.array([fsr_1, fsr_2, fsr_3, fsr_4, fsr_5, fsr_6, temp, humid, gyro], dtype=np.float32).reshape(1, 9)\n",
        "    return user_input\n",
        "\n",
        "# Get user input\n",
        "processed_data = get_user_input()\n",
        "\n",
        "# Set input tensor\n",
        "input_details = interpreter.get_input_details()\n",
        "interpreter.set_tensor(input_details[0]['index'], processed_data)\n",
        "\n",
        "# Run inference\n",
        "interpreter.invoke()\n",
        "\n",
        "# Get output tensor\n",
        "output_details = interpreter.get_output_details()\n",
        "output_data = interpreter.get_tensor(output_details[0]['index'])\n",
        "\n",
        "# Process the output data as needed\n",
        "print(\"Processed Input Data:\", processed_data)\n",
        "print(\"Output Data:\", output_data)"
      ],
      "metadata": {
        "colab": {
          "base_uri": "https://localhost:8080/"
        },
        "id": "QKbO3JheqZOS",
        "outputId": "5759148d-7c9d-4a34-a58f-f6d8bede3937"
      },
      "execution_count": 34,
      "outputs": [
        {
          "output_type": "stream",
          "name": "stdout",
          "text": [
            "Enter FSR 1 value: 10\n",
            "Enter FSR 2 value: 10\n",
            "Enter FSR 3 value: 20\n",
            "Enter FSR 4 value: 22\n",
            "Enter FSR 5 value: 23\n",
            "Enter FSR 6 value: 24\n",
            "Enter temperature value: 37\n",
            "Enter humidity value: 50\n",
            "Enter gyro value: 0\n",
            "Processed Input Data: [[10. 10. 20. 22. 23. 24. 37. 50.  0.]]\n",
            "Output Data: [[16.971355]]\n"
          ]
        }
      ]
    }
  ]
}
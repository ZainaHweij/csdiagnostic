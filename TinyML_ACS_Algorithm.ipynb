{
  "nbformat": 4,
  "nbformat_minor": 0,
  "metadata": {
    "colab": {
      "provenance": [],
      "include_colab_link": true
    },
    "kernelspec": {
      "name": "python3",
      "display_name": "Python 3"
    },
    "language_info": {
      "name": "python"
    }
  },
  "cells": [
    {
      "cell_type": "markdown",
      "metadata": {
        "id": "view-in-github",
        "colab_type": "text"
      },
      "source": [
        "<a href=\"https://colab.research.google.com/github/ZainaHweij/csdiagnostic/blob/main/TinyML_ACS_Algorithm.ipynb\" target=\"_parent\"><img src=\"https://colab.research.google.com/assets/colab-badge.svg\" alt=\"Open In Colab\"/></a>"
      ]
    },
    {
      "cell_type": "markdown",
      "source": [
        "# Machine learning algorithm to forecast intracompartmental pressure"
      ],
      "metadata": {
        "id": "28cGUfozNmp7"
      }
    },
    {
      "cell_type": "markdown",
      "source": [
        "## Train TensorFlow Lite regression algorithm"
      ],
      "metadata": {
        "id": "SJigNhN8WCV8"
      }
    },
    {
      "cell_type": "markdown",
      "source": [
        "Mount Google Drive"
      ],
      "metadata": {
        "id": "6R5pKIc1On48"
      }
    },
    {
      "cell_type": "code",
      "source": [
        "from google.colab import drive\n",
        "drive.mount('/content/drive/')"
      ],
      "metadata": {
        "id": "-ToZlgopOWZn"
      },
      "execution_count": null,
      "outputs": []
    },
    {
      "cell_type": "markdown",
      "source": [
        "Train regression model"
      ],
      "metadata": {
        "id": "x8JfEfM-Otzi"
      }
    },
    {
      "cell_type": "code",
      "execution_count": null,
      "metadata": {
        "id": "6_bv2mzPhvWK"
      },
      "outputs": [],
      "source": [
        "import tensorflow as tf\n",
        "import numpy as np\n",
        "import pandas as pd\n",
        "from sklearn.preprocessing import MinMaxScaler\n",
        "from sklearn.model_selection import train_test_split\n",
        "\n",
        "# Load dataset fsr_data.csv\n",
        "df = pd.read_csv('/content/drive/MyDrive/SEF 2023-2024/TinyML/fsr_data.csv')\n",
        "\n",
        "# Prepare data for training\n",
        "scaler = MinMaxScaler()\n",
        "df[['fsr_1', 'fsr_2','fsr_3','fsr_4','fsr_5','fsr_6','gyro', 'ground_truth']] = scaler.fit_transform(df[['fsr_1', 'fsr_2','fsr_3','fsr_4','fsr_5','fsr_6','gyro', 'ground_truth']])\n",
        "\n",
        "# Split data into features (X) and target (y)\n",
        "X = df[['fsr_1', 'fsr_2','fsr_3','fsr_4','fsr_5','fsr_6','gyro']]\n",
        "y = df['ground_truth']\n",
        "\n",
        "# Split data into training and testing sets\n",
        "X_train, X_test, y_train, y_test = train_test_split(X, y, test_size=0.2, random_state=42)\n",
        "\n",
        "# Define input layers\n",
        "input_layer = tf.keras.Input(shape=(7))\n",
        "\n",
        "# Create the model architecture\n",
        "x = tf.keras.layers.Dense(64, activation='relu')(input_layer) # 64 neurons + relu for nonlinearity\n",
        "x = tf.keras.layers.Dropout(0.5)(x) # prevent overfitting\n",
        "x = tf.keras.layers.Dense(32, activation='relu')(x)  # 32 neurons + relu for nonlinearity\n",
        "x = tf.keras.layers.Dropout(0.5)(x) # prevent overfitting\n",
        "\n",
        "# Output layer\n",
        "output_layer = tf.keras.layers.Dense(1)(x)\n",
        "\n",
        "# Create the model\n",
        "model = tf.keras.Model(inputs=input_layer, outputs=output_layer)\n",
        "\n",
        "# Compile the model\n",
        "model.compile(optimizer='adam', loss='mean_squared_error')\n",
        "\n",
        "# Train the model\n",
        "model.fit(X_train, y_train, epochs=10, validation_data=(X_test, y_test))\n",
        "\n",
        "# Convert to TensorFlow Lite\n",
        "converter = tf.lite.TFLiteConverter.from_keras_model(model)\n",
        "tflite_model = converter.convert()\n",
        "\n",
        "# Save the TFLite model\n",
        "with open('/content/drive/MyDrive/SEF 2023-2024/TinyML/model.tflite', 'wb') as f:\n",
        "    f.write(tflite_model)"
      ]
    },
    {
      "cell_type": "markdown",
      "source": [
        "\n",
        "##Generate machine learning png architecture diagram\n"
      ],
      "metadata": {
        "id": "koBM8YcGGDns"
      }
    },
    {
      "cell_type": "code",
      "source": [
        "tf.keras.utils.plot_model(model, \"model.png\")"
      ],
      "metadata": {
        "id": "Q3EwK_SD4647"
      },
      "execution_count": null,
      "outputs": []
    },
    {
      "cell_type": "code",
      "source": [
        "tf.keras.utils.plot_model(model, \"model_with_shape.png\", show_shapes=True)"
      ],
      "metadata": {
        "id": "zQY9C3xV4iTR"
      },
      "execution_count": null,
      "outputs": []
    },
    {
      "cell_type": "markdown",
      "source": [
        "## Save the TFLite model in .h format (to work with Arduino Sketch)"
      ],
      "metadata": {
        "id": "0hNhvkmgduDs"
      }
    },
    {
      "cell_type": "code",
      "source": [
        "tflite_model_path = '/content/drive/My Drive/SEF 2023-2024/TinyML/model.h'\n",
        "with open(tflite_model_path, 'w') as f:  # Open the file in text mode\n",
        "    f.write('#ifndef MODEL_H\\n')\n",
        "    f.write('#define MODEL_H\\n\\n')\n",
        "    f.write('#include <cstdint>\\n\\n')\n",
        "    f.write('const uint8_t model[] = {\\n')\n",
        "    for byte in tflite_model:\n",
        "        f.write(hex(byte) + ', ')\n",
        "    f.write('\\n};\\n\\n#endif\\n')\n",
        "\n",
        "# Print the path for reference\n",
        "print(f'TFLite model saved as {tflite_model_path}')"
      ],
      "metadata": {
        "id": "CARBXwlycC5D"
      },
      "execution_count": null,
      "outputs": []
    },
    {
      "cell_type": "markdown",
      "source": [
        "## Evaluate model performance (regression)"
      ],
      "metadata": {
        "id": "P_4RDw4viKRp"
      }
    },
    {
      "cell_type": "code",
      "source": [
        "# Model regression statistics\n",
        "\n",
        "# Evaluate the Model\n",
        "loss = model.evaluate(X_test, y_test)\n",
        "print(f'Mean Squared Error on Test Set: {loss}')\n",
        "\n",
        "# Predictions on Test Set\n",
        "y_pred = model.predict(X_test)\n",
        "\n",
        "# Calculate additional performance metrics\n",
        "from sklearn.metrics import mean_absolute_error, r2_score\n",
        "\n",
        "mae = mean_absolute_error(y_test, y_pred)\n",
        "r2 = r2_score(y_test, y_pred)\n",
        "print(f'Mean Absolute Error on Test Set: {mae}')\n",
        "print(f'R-squared on Test Set: {r2}')"
      ],
      "metadata": {
        "id": "2jwUg6H8W8Zv"
      },
      "execution_count": null,
      "outputs": []
    },
    {
      "cell_type": "markdown",
      "source": [
        "## Manually test trained model"
      ],
      "metadata": {
        "id": "6fENTHmEWSzh"
      }
    },
    {
      "cell_type": "code",
      "source": [
        "import numpy as np\n",
        "import tensorflow as tf\n",
        "\n",
        "# Load the TensorFlow Lite model\n",
        "model_path = '/content/drive/My Drive/SEF 2023-2024/TinyML/model.tflite'\n",
        "interpreter = tf.lite.Interpreter(model_path=model_path)\n",
        "interpreter.allocate_tensors()\n",
        "\n",
        "# Define a function to get input from the user\n",
        "def get_user_input():\n",
        "    # Ask the user for input values\n",
        "    fsr_1 = float(input(\"Enter FSR 1 value: \"))\n",
        "    fsr_2 = float(input(\"Enter FSR 2 value: \"))\n",
        "    fsr_3 = float(input(\"Enter FSR 3 value: \"))\n",
        "    fsr_4 = float(input(\"Enter FSR 4 value: \"))\n",
        "    fsr_5 = float(input(\"Enter FSR 5 value: \"))\n",
        "    fsr_6 = float(input(\"Enter FSR 6 value: \"))\n",
        "    gyro = float(input(\"Enter gyro value: \"))\n",
        "\n",
        "    # Create a numpy array with the user input\n",
        "    user_input = np.array([fsr_1, fsr_2, fsr_3, fsr_4, fsr_5, fsr_6, gyro], dtype=np.float32).reshape(1, 7)\n",
        "    return user_input\n",
        "\n",
        "# Get user input\n",
        "processed_data = get_user_input()\n",
        "\n",
        "# Set input tensor\n",
        "input_details = interpreter.get_input_details()\n",
        "interpreter.set_tensor(input_details[0]['index'], processed_data)\n",
        "\n",
        "# Run inference\n",
        "interpreter.invoke()\n",
        "\n",
        "# Get output tensor\n",
        "output_details = interpreter.get_output_details()\n",
        "output_data = interpreter.get_tensor(output_details[0]['index'])\n",
        "\n",
        "# Process the output data as needed\n",
        "print(\"Processed Input Data:\", processed_data)\n",
        "print(\"Output Data:\", output_data)"
      ],
      "metadata": {
        "id": "QKbO3JheqZOS"
      },
      "execution_count": null,
      "outputs": []
    }
  ]
}
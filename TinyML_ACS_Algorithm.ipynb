{
  "nbformat": 4,
  "nbformat_minor": 0,
  "metadata": {
    "colab": {
      "provenance": [],
      "include_colab_link": true
    },
    "kernelspec": {
      "name": "python3",
      "display_name": "Python 3"
    },
    "language_info": {
      "name": "python"
    }
  },
  "cells": [
    {
      "cell_type": "markdown",
      "metadata": {
        "id": "view-in-github",
        "colab_type": "text"
      },
      "source": [
        "<a href=\"https://colab.research.google.com/github/ZainaHweij/csdiagnostic/blob/main/TinyML_ACS_Algorithm.ipynb\" target=\"_parent\"><img src=\"https://colab.research.google.com/assets/colab-badge.svg\" alt=\"Open In Colab\"/></a>"
      ]
    },
    {
      "cell_type": "markdown",
      "source": [
        "### Train TensorFlow Lite regression algorithm"
      ],
      "metadata": {
        "id": "SJigNhN8WCV8"
      }
    },
    {
      "cell_type": "code",
      "execution_count": null,
      "metadata": {
        "id": "6_bv2mzPhvWK",
        "colab": {
          "base_uri": "https://localhost:8080/"
        },
        "outputId": "91269beb-c3e7-41a1-8469-f868b1a25cac"
      },
      "outputs": [
        {
          "output_type": "stream",
          "name": "stdout",
          "text": [
            "Drive already mounted at /content/drive; to attempt to forcibly remount, call drive.mount(\"/content/drive\", force_remount=True).\n",
            "Epoch 1/10\n",
            "3/3 [==============================] - 1s 75ms/step - loss: 0.6023 - val_loss: 0.4985\n",
            "Epoch 2/10\n",
            "3/3 [==============================] - 0s 16ms/step - loss: 0.4826 - val_loss: 0.4055\n",
            "Epoch 3/10\n",
            "3/3 [==============================] - 0s 17ms/step - loss: 0.3781 - val_loss: 0.3225\n",
            "Epoch 4/10\n",
            "3/3 [==============================] - 0s 16ms/step - loss: 0.2887 - val_loss: 0.2505\n",
            "Epoch 5/10\n",
            "3/3 [==============================] - 0s 19ms/step - loss: 0.2111 - val_loss: 0.1903\n",
            "Epoch 6/10\n",
            "3/3 [==============================] - 0s 16ms/step - loss: 0.1501 - val_loss: 0.1404\n",
            "Epoch 7/10\n",
            "3/3 [==============================] - 0s 18ms/step - loss: 0.1048 - val_loss: 0.1017\n",
            "Epoch 8/10\n",
            "3/3 [==============================] - 0s 17ms/step - loss: 0.0720 - val_loss: 0.0738\n",
            "Epoch 9/10\n",
            "3/3 [==============================] - 0s 26ms/step - loss: 0.0495 - val_loss: 0.0556\n",
            "Epoch 10/10\n",
            "3/3 [==============================] - 0s 17ms/step - loss: 0.0391 - val_loss: 0.0447\n"
          ]
        }
      ],
      "source": [
        "# Train Regression Algorithm\n",
        "\n",
        "# Import Libraries\n",
        "import tensorflow as tf\n",
        "import numpy as np\n",
        "import pandas as pd\n",
        "from sklearn.preprocessing import MinMaxScaler\n",
        "from sklearn.model_selection import train_test_split\n",
        "\n",
        "# Mount Google Drive\n",
        "from google.colab import drive\n",
        "drive.mount('/content/drive')\n",
        "\n",
        "# Load dataset fsr_data.csv\n",
        "df = pd.read_csv('/content/drive/My Drive/SEF 2023-2024/TinyML/fsr_data.csv')\n",
        "\n",
        "# Prepare data for training\n",
        "scaler = MinMaxScaler()\n",
        "df[['fsr_1', 'fsr_2','fsr_3','fsr_4','fsr_5','fsr_6','temp','humid','gyro', 'ground_truth']] = scaler.fit_transform(df[['fsr_1', 'fsr_2','fsr_3','fsr_4','fsr_5','fsr_6','temp','humid','gyro', 'ground_truth']])\n",
        "\n",
        "# Split data into features (X) and target (y)\n",
        "X = df[['fsr_1', 'fsr_2','fsr_3','fsr_4','fsr_5','fsr_6','temp','humid','gyro']]\n",
        "y = df['ground_truth']\n",
        "\n",
        "# Split data into training and testing sets\n",
        "X_train, X_test, y_train, y_test = train_test_split(X, y, test_size=0.2, random_state=42)\n",
        "\n",
        "# Build the Model\n",
        "model = tf.keras.Sequential([\n",
        "    tf.keras.layers.Dense(64, activation='relu', input_shape=(9,)),  # Assuming 9 features (sensor readings)\n",
        "    tf.keras.layers.Dense(1)  # Output layer for regression\n",
        "])\n",
        "\n",
        "# Train the Model\n",
        "model.compile(optimizer='adam', loss='mean_squared_error')\n",
        "model.fit(X_train, y_train, epochs=10, validation_data=(X_test, y_test))\n",
        "\n",
        "# Convert to TensorFlow Lite\n",
        "converter = tf.lite.TFLiteConverter.from_keras_model(model)\n",
        "tflite_model = converter.convert()\n",
        "\n",
        "# Save the TFLite model\n",
        "with open('/content/drive/My Drive/SEF 2023-2024/TinyML/model.tflite', 'wb') as f:\n",
        "    f.write(tflite_model)"
      ]
    },
    {
      "cell_type": "markdown",
      "source": [
        "Save the TFLite model in .h format (to work with Arduino Sketch)"
      ],
      "metadata": {
        "id": "0hNhvkmgduDs"
      }
    },
    {
      "cell_type": "code",
      "source": [
        "tflite_model_path = '/content/drive/My Drive/SEF 2023-2024/TinyML/model.h'\n",
        "with open(tflite_model_path, 'w') as f:  # Open the file in text mode\n",
        "    f.write('#ifndef MODEL_H\\n')\n",
        "    f.write('#define MODEL_H\\n\\n')\n",
        "    f.write('#include <cstdint>\\n\\n')\n",
        "    f.write('const uint8_t model[] = {\\n')\n",
        "    for byte in tflite_model:\n",
        "        f.write(hex(byte) + ', ')\n",
        "    f.write('\\n};\\n\\n#endif\\n')\n",
        "\n",
        "# Print the path for reference\n",
        "print(f'TFLite model saved as {tflite_model_path}')"
      ],
      "metadata": {
        "colab": {
          "base_uri": "https://localhost:8080/"
        },
        "id": "CARBXwlycC5D",
        "outputId": "793e4da8-10af-42df-adc2-531b5dbb7f2d"
      },
      "execution_count": null,
      "outputs": [
        {
          "output_type": "stream",
          "name": "stdout",
          "text": [
            "TFLite model saved as /content/drive/My Drive/SEF 2023-2024/TinyML/model.h\n"
          ]
        }
      ]
    },
    {
      "cell_type": "code",
      "source": [
        "# Model statistics\n",
        "\n",
        "# Evaluate the Model\n",
        "loss = model.evaluate(X_test, y_test)\n",
        "print(f'Mean Squared Error on Test Set: {loss}')\n",
        "\n",
        "# Predictions on Test Set\n",
        "y_pred = model.predict(X_test)\n",
        "\n",
        "# Calculate additional performance metrics if needed\n",
        "from sklearn.metrics import mean_absolute_error, r2_score\n",
        "\n",
        "mae = mean_absolute_error(y_test, y_pred)\n",
        "r2 = r2_score(y_test, y_pred)\n",
        "\n",
        "print(f'Mean Absolute Error on Test Set: {mae}')\n",
        "print(f'R-squared on Test Set: {r2}')"
      ],
      "metadata": {
        "colab": {
          "base_uri": "https://localhost:8080/"
        },
        "id": "2jwUg6H8W8Zv",
        "outputId": "cf3bdb07-e41d-40f5-f84d-bcee5db3c1ae"
      },
      "execution_count": null,
      "outputs": [
        {
          "output_type": "stream",
          "name": "stdout",
          "text": [
            "1/1 [==============================] - 0s 28ms/step - loss: 0.0318\n",
            "Mean Squared Error on Test Set: 0.031819697469472885\n",
            "1/1 [==============================] - 0s 60ms/step\n",
            "Mean Absolute Error on Test Set: 0.13793128489915282\n",
            "R-squared on Test Set: 0.4949503045414373\n"
          ]
        }
      ]
    },
    {
      "cell_type": "code",
      "source": [
        "# Define a threshold to create classes\n",
        "threshold = 0.5\n",
        "\n",
        "# Convert regression predictions to classes\n",
        "y_pred_classes = (y_pred > threshold).astype(int)\n",
        "y_test_classes = (y_test > threshold).astype(int)\n",
        "\n",
        "# Calculate precision, recall (sensitivity), specificity, and accuracy\n",
        "from sklearn.metrics import precision_score, recall_score, accuracy_score, confusion_matrix\n",
        "\n",
        "precision = precision_score(y_test_classes, y_pred_classes)\n",
        "recall = recall_score(y_test_classes, y_pred_classes)\n",
        "accuracy = accuracy_score(y_test_classes, y_pred_classes)\n",
        "\n",
        "# Calculate specificity from the confusion matrix\n",
        "tn, fp, fn, tp = confusion_matrix(y_test_classes, y_pred_classes).ravel()\n",
        "specificity = tn / (tn + fp)\n",
        "\n",
        "# Print the metrics\n",
        "print(f'Precision: {precision}')\n",
        "print(f'Recall (Sensitivity): {recall}')\n",
        "print(f'Specificity: {specificity}')\n",
        "print(f'Accuracy: {accuracy}')"
      ],
      "metadata": {
        "colab": {
          "base_uri": "https://localhost:8080/"
        },
        "id": "1wnKGMJOeU6S",
        "outputId": "8bb2dc6b-7c50-4193-d96e-a4d2125add09"
      },
      "execution_count": 51,
      "outputs": [
        {
          "output_type": "stream",
          "name": "stdout",
          "text": [
            "Precision: 1.0\n",
            "Recall (Sensitivity): 0.3\n",
            "Specificity: 1.0\n",
            "Accuracy: 0.65\n"
          ]
        }
      ]
    },
    {
      "cell_type": "markdown",
      "source": [
        "### Manually test trained model"
      ],
      "metadata": {
        "id": "6fENTHmEWSzh"
      }
    },
    {
      "cell_type": "code",
      "source": [
        "import numpy as np\n",
        "import tensorflow as tf\n",
        "\n",
        "# Load the TensorFlow Lite model\n",
        "model_path = '/content/drive/My Drive/SEF 2023-2024/TinyML/model.tflite'\n",
        "interpreter = tf.lite.Interpreter(model_path=model_path)\n",
        "interpreter.allocate_tensors()\n",
        "\n",
        "# Define a function to get input from the user\n",
        "def get_user_input():\n",
        "    # Ask the user for input values\n",
        "    fsr_1 = float(input(\"Enter FSR 1 value: \"))\n",
        "    fsr_2 = float(input(\"Enter FSR 2 value: \"))\n",
        "    fsr_3 = float(input(\"Enter FSR 3 value: \"))\n",
        "    fsr_4 = float(input(\"Enter FSR 4 value: \"))\n",
        "    fsr_5 = float(input(\"Enter FSR 5 value: \"))\n",
        "    fsr_6 = float(input(\"Enter FSR 6 value: \"))\n",
        "    temp = float(input(\"Enter temperature value: \"))\n",
        "    humid = float(input(\"Enter humidity value: \"))\n",
        "    gyro = float(input(\"Enter gyro value: \"))\n",
        "\n",
        "    # Create a numpy array with the user input\n",
        "    user_input = np.array([fsr_1, fsr_2, fsr_3, fsr_4, fsr_5, fsr_6, temp, humid, gyro], dtype=np.float32).reshape(1, 9)\n",
        "    return user_input\n",
        "\n",
        "# Get user input\n",
        "processed_data = get_user_input()\n",
        "\n",
        "# Set input tensor\n",
        "input_details = interpreter.get_input_details()\n",
        "interpreter.set_tensor(input_details[0]['index'], processed_data)\n",
        "\n",
        "# Run inference\n",
        "interpreter.invoke()\n",
        "\n",
        "# Get output tensor\n",
        "output_details = interpreter.get_output_details()\n",
        "output_data = interpreter.get_tensor(output_details[0]['index'])\n",
        "\n",
        "# Process the output data as needed\n",
        "print(\"Processed Input Data:\", processed_data)\n",
        "print(\"Output Data:\", output_data)"
      ],
      "metadata": {
        "colab": {
          "base_uri": "https://localhost:8080/"
        },
        "id": "QKbO3JheqZOS",
        "outputId": "ca98f99e-c8d6-477d-d2c1-98fbb6059ec1"
      },
      "execution_count": 46,
      "outputs": [
        {
          "output_type": "stream",
          "name": "stdout",
          "text": [
            "Enter FSR 1 value: 30\n",
            "Enter FSR 2 value: 30\n",
            "Enter FSR 3 value: 30\n",
            "Enter FSR 4 value: 30\n",
            "Enter FSR 5 value: 30\n",
            "Enter FSR 6 value: 30\n",
            "Enter temperature value: 37\n",
            "Enter humidity value: 50\n",
            "Enter gyro value: 0\n",
            "Processed Input Data: [[30. 30. 30. 30. 30. 30. 37. 50.  0.]]\n",
            "Output Data: [[26.041069]]\n"
          ]
        }
      ]
    }
  ]
}
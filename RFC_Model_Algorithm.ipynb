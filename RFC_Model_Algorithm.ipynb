{
  "nbformat": 4,
  "nbformat_minor": 0,
  "metadata": {
    "colab": {
      "provenance": [],
      "include_colab_link": true
    },
    "kernelspec": {
      "name": "python3",
      "display_name": "Python 3"
    },
    "language_info": {
      "name": "python"
    }
  },
  "cells": [
    {
      "cell_type": "markdown",
      "metadata": {
        "id": "view-in-github",
        "colab_type": "text"
      },
      "source": [
        "<a href=\"https://colab.research.google.com/github/ZainaHweij/csdiagnostic/blob/main/RFC_Model_Algorithm.ipynb\" target=\"_parent\"><img src=\"https://colab.research.google.com/assets/colab-badge.svg\" alt=\"Open In Colab\"/></a>"
      ]
    },
    {
      "cell_type": "markdown",
      "source": [
        "# Machine learning RFC algorithm to diagnose Acute Compartment Syndrome"
      ],
      "metadata": {
        "id": "tMMj4Ap_1ZOc"
      }
    },
    {
      "cell_type": "markdown",
      "source": [
        "## Train classification algorithm"
      ],
      "metadata": {
        "id": "Z-bAoOArWdcz"
      }
    },
    {
      "cell_type": "markdown",
      "source": [
        "Mount Google Drive"
      ],
      "metadata": {
        "id": "KLyWBITKWWOy"
      }
    },
    {
      "cell_type": "code",
      "source": [
        "from google.colab import drive\n",
        "drive.mount('/content/drive/')"
      ],
      "metadata": {
        "id": "p7nwE5kA1X-f",
        "colab": {
          "base_uri": "https://localhost:8080/"
        },
        "outputId": "dcf62519-23aa-4fc6-fe1a-b23582db6563"
      },
      "execution_count": 2,
      "outputs": [
        {
          "output_type": "stream",
          "name": "stdout",
          "text": [
            "Mounted at /content/drive/\n"
          ]
        }
      ]
    },
    {
      "cell_type": "markdown",
      "source": [
        "Train model"
      ],
      "metadata": {
        "id": "fx59XmdDWprX"
      }
    },
    {
      "cell_type": "code",
      "execution_count": 3,
      "metadata": {
        "id": "FF_K383m0j54",
        "colab": {
          "base_uri": "https://localhost:8080/"
        },
        "outputId": "97292fd9-9259-48c7-810e-272615afcd89"
      },
      "outputs": [
        {
          "output_type": "stream",
          "name": "stdout",
          "text": [
            "Accuracy: 0.9743589743589743\n",
            "Classification Report:\n",
            "              precision    recall  f1-score   support\n",
            "\n",
            "           0       1.00      0.88      0.93         8\n",
            "           1       0.97      1.00      0.98        31\n",
            "\n",
            "    accuracy                           0.97        39\n",
            "   macro avg       0.98      0.94      0.96        39\n",
            "weighted avg       0.98      0.97      0.97        39\n",
            "\n",
            "Model saved to /content/drive/MyDrive/SEF 2023-2024/TinyML/tinyml_model_test.pkl\n"
          ]
        }
      ],
      "source": [
        "from sklearn.model_selection import train_test_split\n",
        "from sklearn.ensemble import RandomForestClassifier\n",
        "from sklearn.metrics import accuracy_score, classification_report\n",
        "import joblib\n",
        "import pandas as pd\n",
        "from sklearn.preprocessing import MinMaxScaler\n",
        "\n",
        "# Load dataset training_three.csv\n",
        "df = pd.read_csv('/content/drive/MyDrive/SEF 2023-2024/TinyML/training_three.csv')\n",
        "\n",
        "# Split data into features (X) and target (y)\n",
        "X = df[['fsr_1', 'fsr_2','fsr_3','fsr_4','fsr_5']]\n",
        "y = df['ground_truth']\n",
        "\n",
        "# Split the data into training and testing sets\n",
        "X_train, X_test, y_train, y_test = train_test_split(X, y, test_size=0.2, random_state=42)\n",
        "\n",
        "# Create a RandomForestClassifier\n",
        "clf = RandomForestClassifier(n_estimators=100, random_state=42)\n",
        "\n",
        "# Train the classifier\n",
        "clf.fit(X_train, y_train)\n",
        "\n",
        "# Make predictions on the test set\n",
        "y_pred = clf.predict(X_test)\n",
        "\n",
        "# Evaluate the model\n",
        "accuracy = accuracy_score(y_test, y_pred)\n",
        "print(f\"Accuracy: {accuracy}\")\n",
        "\n",
        "# Display classification report\n",
        "print(\"Classification Report:\")\n",
        "print(classification_report(y_test, y_pred))\n",
        "\n",
        "# Save the model to a file\n",
        "model_filename = '/content/drive/MyDrive/SEF 2023-2024/TinyML/tinyml_model_test.pkl'\n",
        "joblib.dump(clf, model_filename)\n",
        "print(f\"Model saved to {model_filename}\")"
      ]
    },
    {
      "cell_type": "markdown",
      "source": [
        "Test correct csv data loading if necessary"
      ],
      "metadata": {
        "id": "rhfZGHnjW7C4"
      }
    },
    {
      "cell_type": "code",
      "source": [
        "print(X_test, y_pred)"
      ],
      "metadata": {
        "id": "ZiTZNtv5HJzb"
      },
      "execution_count": null,
      "outputs": []
    },
    {
      "cell_type": "markdown",
      "source": [
        "## Visualize model"
      ],
      "metadata": {
        "id": "aBXF9icVewHq"
      }
    },
    {
      "cell_type": "markdown",
      "source": [
        "Visualize a decision tree in a Random Forest"
      ],
      "metadata": {
        "id": "2NSWclepeG1H"
      }
    },
    {
      "cell_type": "code",
      "source": [
        "from sklearn.tree import plot_tree\n",
        "import matplotlib.pyplot as plt\n",
        "\n",
        "# You can pick a tree, e.g., the first one (index 0)\n",
        "tree_to_visualize = clf.estimators_[0]\n",
        "\n",
        "# Convert class names to strings\n",
        "class_names_str = [str(class_name) for class_name in clf.classes_]\n",
        "\n",
        "# Plot the tree\n",
        "plt.figure(figsize=(15, 10))\n",
        "plot_tree(tree_to_visualize, filled=True, feature_names=X.columns, class_names=class_names_str, rounded=True, max_depth=3)\n",
        "plt.title(\"Decision Tree Visualization\")\n",
        "\n",
        "save_path = '/content/drive/MyDrive/SEF 2023-2024/TinyML/Performance/RFC_model/decision_tree_RFC_abbreviated.png'\n",
        "plt.savefig(save_path)\n",
        "\n",
        "plt.show()"
      ],
      "metadata": {
        "id": "ZwcGjMEIdAHd"
      },
      "execution_count": null,
      "outputs": []
    },
    {
      "cell_type": "markdown",
      "source": [
        "Alternative way to visualize decision tree using graphviz"
      ],
      "metadata": {
        "id": "NH98x8zyuoYE"
      }
    },
    {
      "cell_type": "code",
      "source": [
        "import graphviz\n",
        "from sklearn.tree import export_graphviz\n",
        "\n",
        "# Choose one tree from the RandomForestClassifier\n",
        "tree = clf.estimators_[0]\n",
        "\n",
        "# Export the decision tree to DOT format\n",
        "dot_data = export_graphviz(tree, out_file=None,\n",
        "                           feature_names=X.columns.tolist(),\n",
        "                           class_names=y.unique().astype(str),\n",
        "                           filled=True, rounded=True, special_characters=True, max_depth=3)\n",
        "\n",
        "# Draw graph\n",
        "graph = graphviz.Source(dot_data, format=\"png\")\n",
        "\n",
        "# Save the image\n",
        "#save_path = '/content/drive/MyDrive/SEF 2023-2024/TinyML/Performance/RFC_model/decision_tree_RFC_abbreviated_2.png'\n",
        "#graph.render(save_path, format='png', cleanup=True)\n",
        "\n",
        "# Display the graph (optional)\n",
        "graph"
      ],
      "metadata": {
        "id": "DiXIUKb0rcRd",
        "colab": {
          "base_uri": "https://localhost:8080/",
          "height": 245
        },
        "outputId": "38d9a048-e011-459a-994e-04a6a911e930"
      },
      "execution_count": 16,
      "outputs": [
        {
          "output_type": "error",
          "ename": "TypeError",
          "evalue": "ignored",
          "traceback": [
            "\u001b[0;31m---------------------------------------------------------------------------\u001b[0m",
            "\u001b[0;31mTypeError\u001b[0m                                 Traceback (most recent call last)",
            "\u001b[0;32m<ipython-input-16-6a00ce3f7633>\u001b[0m in \u001b[0;36m<cell line: 8>\u001b[0;34m()\u001b[0m\n\u001b[1;32m      6\u001b[0m \u001b[0;34m\u001b[0m\u001b[0m\n\u001b[1;32m      7\u001b[0m \u001b[0;31m# Export the decision tree to DOT format\u001b[0m\u001b[0;34m\u001b[0m\u001b[0;34m\u001b[0m\u001b[0m\n\u001b[0;32m----> 8\u001b[0;31m dot_data = export_graphviz(tree, out_file=None,\n\u001b[0m\u001b[1;32m      9\u001b[0m                            \u001b[0mfeature_names\u001b[0m\u001b[0;34m=\u001b[0m\u001b[0mX\u001b[0m\u001b[0;34m.\u001b[0m\u001b[0mcolumns\u001b[0m\u001b[0;34m.\u001b[0m\u001b[0mtolist\u001b[0m\u001b[0;34m(\u001b[0m\u001b[0;34m)\u001b[0m\u001b[0;34m,\u001b[0m\u001b[0;34m\u001b[0m\u001b[0;34m\u001b[0m\u001b[0m\n\u001b[1;32m     10\u001b[0m                            \u001b[0mclass_names\u001b[0m\u001b[0;34m=\u001b[0m\u001b[0my\u001b[0m\u001b[0;34m.\u001b[0m\u001b[0munique\u001b[0m\u001b[0;34m(\u001b[0m\u001b[0;34m)\u001b[0m\u001b[0;34m.\u001b[0m\u001b[0mastype\u001b[0m\u001b[0;34m(\u001b[0m\u001b[0mstr\u001b[0m\u001b[0;34m)\u001b[0m\u001b[0;34m,\u001b[0m\u001b[0;34m\u001b[0m\u001b[0;34m\u001b[0m\u001b[0m\n",
            "\u001b[0;31mTypeError\u001b[0m: export_graphviz() got an unexpected keyword argument 'fill_color'"
          ]
        }
      ]
    },
    {
      "cell_type": "markdown",
      "source": [
        "Visualize feature importance"
      ],
      "metadata": {
        "id": "hZKHGLI1gGdy"
      }
    },
    {
      "cell_type": "code",
      "source": [
        "feature_importances = clf.feature_importances_\n",
        "plt.bar(X.columns, feature_importances)\n",
        "plt.xlabel('Feature')\n",
        "plt.ylabel('Importance Score')\n",
        "plt.title('Feature Importances')\n",
        "\n",
        "save_path = '/content/drive/MyDrive/SEF 2023-2024/TinyML/Performance/RFC_model/feature_importance.png'\n",
        "plt.savefig(save_path)\n",
        "\n",
        "plt.show()"
      ],
      "metadata": {
        "id": "R0YXlzgtfBFQ"
      },
      "execution_count": null,
      "outputs": []
    },
    {
      "cell_type": "markdown",
      "source": [
        "ROC Curve"
      ],
      "metadata": {
        "id": "dqMVRvW8hftX"
      }
    },
    {
      "cell_type": "code",
      "source": [
        "from sklearn.metrics import roc_curve, auc\n",
        "\n",
        "y_prob = clf.predict_proba(X_test)[:, 1]\n",
        "fpr, tpr, _ = roc_curve(y_test, y_prob)\n",
        "roc_auc = auc(fpr, tpr)\n",
        "\n",
        "plt.plot(fpr, tpr, label=f'ROC Curve (AUC = {roc_auc:.2f})')\n",
        "plt.plot([0, 1], [0, 1], '--', color='gray', label='Random')\n",
        "plt.xlabel('False Positive Rate')\n",
        "plt.ylabel('True Positive Rate')\n",
        "plt.title('ROC Curve')\n",
        "plt.legend()\n",
        "\n",
        "save_path = '/content/drive/MyDrive/SEF 2023-2024/TinyML/Performance/RFC_model/ROC_curve.png'\n",
        "plt.savefig(save_path)\n",
        "\n",
        "plt.show()"
      ],
      "metadata": {
        "id": "CbyQwq4dgNVx"
      },
      "execution_count": null,
      "outputs": []
    },
    {
      "cell_type": "markdown",
      "source": [
        "## Generate metrics"
      ],
      "metadata": {
        "id": "QLYBkj0CYBIv"
      }
    },
    {
      "cell_type": "code",
      "source": [
        "from sklearn.metrics import confusion_matrix\n",
        "\n",
        "# Generate the confusion matrix\n",
        "conf_matrix = confusion_matrix(y_test, y_pred)\n",
        "\n",
        "# Extract TP, TN, FP, FN from the confusion matrix\n",
        "tn, fp, fn, tp = conf_matrix.ravel()\n",
        "\n",
        "# Calculate sensitivity (recall), specificity, precision, and F1 score\n",
        "sensitivity = tp / (tp + fn) if (tp + fn) != 0 else 0  # Check for division by zero\n",
        "specificity = tn / (tn + fp) if (tn + fp) != 0 else 0  # Check for division by zero\n",
        "precision = tp / (tp + fp) if (tp + fp) != 0 else 0  # Check for division by zero\n",
        "f1_score = 2 * (precision * sensitivity) / (precision + sensitivity) if (precision + sensitivity) != 0 else 0  # Check for division by zero\n",
        "\n",
        "print(conf_matrix)\n",
        "print(f\"\\nAccuracy: {accuracy}\")\n",
        "print(f\"Sensitivity (Recall): {sensitivity}\")\n",
        "print(f\"Specificity: {specificity}\")\n",
        "print(f\"Precision: {precision}\")\n",
        "print(f\"F1 Score: {f1_score}\")"
      ],
      "metadata": {
        "id": "qgW2GFkBYLGc",
        "colab": {
          "base_uri": "https://localhost:8080/"
        },
        "outputId": "884895d9-2715-46bf-f687-2b460404000f"
      },
      "execution_count": 4,
      "outputs": [
        {
          "output_type": "stream",
          "name": "stdout",
          "text": [
            "[[ 7  1]\n",
            " [ 0 31]]\n",
            "\n",
            "Accuracy: 0.9743589743589743\n",
            "Sensitivity (Recall): 1.0\n",
            "Specificity: 0.875\n",
            "Precision: 0.96875\n",
            "F1 Score: 0.9841269841269841\n"
          ]
        }
      ]
    },
    {
      "cell_type": "markdown",
      "source": [
        "## Visualize metrics"
      ],
      "metadata": {
        "id": "QvB6BmlLYGbt"
      }
    },
    {
      "cell_type": "markdown",
      "source": [
        "Save raw metric scores accuracy, sensitivity, specificity, precision, F1 score and confusian matrix to text file\n"
      ],
      "metadata": {
        "id": "d9BIj3ovahnj"
      }
    },
    {
      "cell_type": "code",
      "source": [
        "output_filename = '/content/drive/MyDrive/SEF 2023-2024/TinyML/Performance/RFC_model/data.txt'\n",
        "with open(output_filename, 'w') as file:\n",
        "    print(\"Confusion Matrix:\", file=file)\n",
        "    print(conf_matrix, file=file)\n",
        "    print(f\"\\nAccuracy: {accuracy}\", file=file)\n",
        "    print(f\"Sensitivity (Recall): {sensitivity}\", file=file)\n",
        "    print(f\"Specificity: {specificity}\", file=file)\n",
        "    print(f\"Precision: {precision}\", file=file)\n",
        "    print(f\"F1 Score: {f1_score}\", file=file)\n",
        "\n",
        "print(\"saved to file\")"
      ],
      "metadata": {
        "id": "dH6MR3HCaSA2"
      },
      "execution_count": null,
      "outputs": []
    },
    {
      "cell_type": "markdown",
      "source": [
        "Confusion Matrix (heat map)"
      ],
      "metadata": {
        "id": "7PtG9G4McB5x"
      }
    },
    {
      "cell_type": "code",
      "source": [
        "import seaborn as sns\n",
        "import matplotlib.pyplot as plt\n",
        "import pandas as pd\n",
        "\n",
        "# Display the confusion matrix using a heatmap\n",
        "plt.figure(figsize=(8, 6))\n",
        "sns.heatmap(conf_matrix, annot=True, fmt='d', cmap='Blues', cbar=False,\n",
        "            xticklabels=['Predicted Negative (0)', 'Predicted Positive (1)'],\n",
        "            yticklabels=['Actual Negative (0)', 'Actual Positive (1)'])\n",
        "plt.title('Confusion Matrix')\n",
        "plt.xlabel('Predicted ACS')\n",
        "plt.ylabel('True ACS')\n",
        "\n",
        "save_path = '/content/drive/MyDrive/SEF 2023-2024/TinyML/Performance/RFC_model/CM.png'\n",
        "plt.savefig(save_path)\n",
        "\n",
        "plt.show()"
      ],
      "metadata": {
        "id": "BeJClnKS3bzD"
      },
      "execution_count": null,
      "outputs": []
    },
    {
      "cell_type": "markdown",
      "source": [
        "Metrics (bar chart)"
      ],
      "metadata": {
        "id": "rhjoaMEWcNpd"
      }
    },
    {
      "cell_type": "code",
      "source": [
        "import matplotlib.pyplot as plt\n",
        "\n",
        "metrics_names = ['Sensitivity', 'F1 Score', 'Precision', 'Accuracy', 'Specificity']\n",
        "metrics_values = [sensitivity, f1_score, precision, accuracy, specificity]\n",
        "\n",
        "plt.figure(figsize=(10, 5))  # Higher = better\n",
        "bars = plt.bar(metrics_names, metrics_values, color=['#5b9243', '#6aa84f', '#93c47d', '#93c47d', '#b6d7a8'], edgecolor='black')  # Remove borders\n",
        "plt.title('Model Performance Metrics')\n",
        "plt.ylabel('Score')\n",
        "\n",
        "# Add labels to each bar\n",
        "for bar, value in zip(bars, metrics_values):\n",
        "    plt.text(bar.get_x() + bar.get_width() / 2, bar.get_height() + 0.01, f'{value:.2f}', ha='center', va='bottom')\n",
        "\n",
        "# Customize y-axis appearance\n",
        "plt.gca().spines['left'].set_linewidth(0.5)  # Set y-axis line width\n",
        "plt.gca().spines['right'].set_visible(False)  # Hide x-axis line\n",
        "plt.gca().spines['top'].set_visible(False)  # Hide top spine\n",
        "plt.gca().spines['bottom'].set_visible(False)  # Hide top spine\n",
        "\n",
        "plt.tick_params(axis='x', bottom=False)\n",
        "\n",
        "\n",
        "# Set ylim to give some space at the top\n",
        "plt.ylim(top=max(metrics_values) + 0.05)\n",
        "\n",
        "save_path = '/content/drive/MyDrive/SEF 2023-2024/TinyML/Performance/RFC_model/PM.png'\n",
        "plt.savefig(save_path)\n",
        "\n",
        "plt.show()"
      ],
      "metadata": {
        "id": "dDLwjFMf7-tL",
        "colab": {
          "base_uri": "https://localhost:8080/",
          "height": 468
        },
        "outputId": "8e10fdd4-22c2-4507-fd98-fcc896547b1a"
      },
      "execution_count": 66,
      "outputs": [
        {
          "output_type": "display_data",
          "data": {
            "text/plain": [
              "<Figure size 1000x500 with 1 Axes>"
            ],
            "image/png": "[encoded data removed]"
          },
          "metadata": {}
        }
      ]
    },
    {
      "cell_type": "code",
      "source": [
        "import matplotlib.pyplot as plt\n",
        "\n",
        "#bar graph focuse on only relevant metrics\n",
        "metrics_names = ['Accuracy','Specificity', 'Precision']\n",
        "metrics_values = [accuracy, specificity, precision]\n",
        "\n",
        "plt.figure(figsize=(8, 6)) # Higher = better\n",
        "plt.bar(metrics_names, metrics_values, color=['#df3c5fff', '#6f9bd1ff', '#224193ff']) # Can select other colors\n",
        "plt.title('Model Performance Metrics')\n",
        "plt.ylabel('Score')\n",
        "\n",
        "save_path = '/content/drive/MyDrive/SEF 2023-2024/TinyML/Performance/RFC_model/PM2.png'\n",
        "plt.savefig(save_path)\n",
        "\n",
        "plt.show()"
      ],
      "metadata": {
        "id": "qTmgfqQkFf2-",
        "colab": {
          "base_uri": "https://localhost:8080/",
          "height": 545
        },
        "outputId": "4320de6c-562f-4f44-d876-42dece705486"
      },
      "execution_count": 9,
      "outputs": [
        {
          "output_type": "display_data",
          "data": {
            "text/plain": [
              "<Figure size 800x600 with 1 Axes>"
            ],
            "image/png": "[encoded data removed]"
          },
          "metadata": {}
        }
      ]
    }
  ]
}
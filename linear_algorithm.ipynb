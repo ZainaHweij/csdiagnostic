{
  "nbformat": 4,
  "nbformat_minor": 0,
  "metadata": {
    "colab": {
      "provenance": [],
      "authorship_tag": "ABX9TyOjztnU8KvpsRHxjKqbLW7j",
      "include_colab_link": true
    },
    "kernelspec": {
      "name": "python3",
      "display_name": "Python 3"
    },
    "language_info": {
      "name": "python"
    }
  },
  "cells": [
    {
      "cell_type": "markdown",
      "metadata": {
        "id": "view-in-github",
        "colab_type": "text"
      },
      "source": [
        "<a href=\"https://colab.research.google.com/github/ZainaHweij/csdiagnostic/blob/main/linear_algorithm.ipynb\" target=\"_parent\"><img src=\"https://colab.research.google.com/assets/colab-badge.svg\" alt=\"Open In Colab\"/></a>"
      ]
    },
    {
      "cell_type": "markdown",
      "source": [
        "## Linear Algorithm"
      ],
      "metadata": {
        "id": "vm0H5oO700mL"
      }
    },
    {
      "cell_type": "markdown",
      "source": [
        "Mount Google Drive"
      ],
      "metadata": {
        "id": "Dt1g7Bxd06BP"
      }
    },
    {
      "cell_type": "code",
      "execution_count": null,
      "metadata": {
        "id": "TyHt4yohzc-w"
      },
      "outputs": [],
      "source": [
        "from google.colab import drive\n",
        "drive.mount('/content/drive/')"
      ]
    },
    {
      "cell_type": "markdown",
      "source": [
        "Import testing data"
      ],
      "metadata": {
        "id": "Pd1hifQg09_b"
      }
    },
    {
      "cell_type": "code",
      "source": [
        "import pandas as pd\n",
        "import numpy as np\n",
        "import matplotlib.pyplot as plt\n",
        "import seaborn as sns\n",
        "\n",
        "df = pd.read_csv('/content/drive/MyDrive/SEF 2023-2024/TinyML/training_three.csv')\n",
        "\n",
        "# Split data into features (X) and target (y)\n",
        "X = df[['fsr_1', 'fsr_2','fsr_3','fsr_4','fsr_5']]\n",
        "y = df['ground_truth']\n",
        "\n",
        "df.head()\n",
        "correlation_matrix = df.corr()\n",
        "sns.heatmap(correlation_matrix, annot=True, cmap='coolwarm')\n",
        "plt.show()"
      ],
      "metadata": {
        "id": "8GXCQgKI1CHZ"
      },
      "execution_count": null,
      "outputs": []
    },
    {
      "cell_type": "markdown",
      "source": [
        "Generate testing data"
      ],
      "metadata": {
        "id": "Ub7tpkaR1KJs"
      }
    },
    {
      "cell_type": "code",
      "source": [
        "import statsmodels.api as sm\n",
        "\n",
        "\n",
        "X = df[['fsr_1', 'fsr_2', 'fsr_3', 'fsr_4', 'fsr_5']]\n",
        "X = sm.add_constant(X)  # Add a constant term for the intercepts\n",
        "\n",
        "y = df['ground_truth']\n",
        "\n",
        "model = sm.OLS(y, X).fit()\n",
        "print(model.summary()) # generate report of stats between data"
      ],
      "metadata": {
        "id": "MSQPaKPV-7Ty"
      },
      "execution_count": null,
      "outputs": []
    },
    {
      "cell_type": "code",
      "source": [
        "# Assuming you have loaded your data into the DataFrame 'df'\n",
        "# Assuming you have the linear regression coefficients available\n",
        "coefficients = {'const': 0.3120, 'fsr_1': -0.0007, 'fsr_2': -0.0009, 'fsr_3': -0.0052, 'fsr_4': 0.0048, 'fsr_5': 0.0066}\n",
        "\n",
        "# Calculate predictions using the specified equation\n",
        "predictions = (\n",
        "    coefficients['const'] +\n",
        "    coefficients['fsr_1'] * df['fsr_1'] +\n",
        "    coefficients['fsr_2'] * df['fsr_2'] +\n",
        "    coefficients['fsr_3'] * df['fsr_3'] +\n",
        "    coefficients['fsr_4'] * df['fsr_4'] +\n",
        "    coefficients['fsr_5'] * df['fsr_5']\n",
        ")\n",
        "\n",
        "# Apply the threshold\n",
        "threshold = 30\n",
        "binary_predictions = predictions > threshold\n",
        "\n",
        "# Add predictions to the DataFrame\n",
        "df['predictions'] = binary_predictions.astype(int)\n",
        "\n",
        "# Display the DataFrame with predictions\n",
        "print(df[['fsr_1', 'fsr_2', 'fsr_3', 'fsr_4', 'fsr_5', 'ground_truth', 'predictions']])\n",
        "\n",
        "# Calculate accuracy\n",
        "accuracy = sum(df['predictions'] == df['ground_truth']) / len(df)\n",
        "\n",
        "# Calculate precision\n",
        "true_positives = sum((df['predictions'] == 1) & (df['ground_truth'] == 1))\n",
        "false_positives = sum((df['predictions'] == 1) & (df['ground_truth'] == 0))\n",
        "precision = true_positives / (true_positives + false_positives) if (true_positives + false_positives) > 0 else 0\n",
        "\n",
        "# Display results\n",
        "print(f\"Accuracy: {accuracy:.2%}\")\n",
        "print(f\"Precision: {precision:.2%}\")"
      ],
      "metadata": {
        "id": "oVgfBV86AfFf"
      },
      "execution_count": null,
      "outputs": []
    },
    {
      "cell_type": "markdown",
      "source": [
        "Calculate mmHG from voltage readings"
      ],
      "metadata": {
        "id": "NEXpfhBTbAUB"
      }
    },
    {
      "cell_type": "code",
      "source": [
        "# Calculate the average FSR reading from the DataFrame\n",
        "df['fsr_1'] = (df['fsr_1'] / 1024) * 3.3\n",
        "df['fsr_2'] = (df['fsr_2'] / 1024) * 3.3\n",
        "df['fsr_3'] = (df['fsr_3'] / 1024) * 3.3\n",
        "df['fsr_4'] = (df['fsr_4'] / 1024) * 3.3\n",
        "df['fsr_5'] = (df['fsr_5'] / 1024) * 3.3\n",
        "\n",
        "average_fsr_reading = (df['fsr_1'] + df['fsr_2'] + df['fsr_3'] + df['fsr_4'] + df['fsr_5']) / 5\n",
        "\n",
        "# Calculate FSR resistance in ohm based on the Arduino code logic\n",
        "fsr_resistance = ((5000 - average_fsr_reading) * 10000) / average_fsr_reading\n",
        "\n",
        "# Calculate FSR conductance based on the Arduino code logic\n",
        "fsr_conductance = 1000000 / fsr_resistance\n",
        "\n",
        "if (fsr_conductance.all() <= 1000):\n",
        "  fsr_force = fsr_conductance / 80\n",
        "else:\n",
        "  fsr_force = (fsr_conductance - 1000) / 30\n",
        "\n",
        "# Convert conductance to mmHG\n",
        "fsr_mmHG = 0.0075006157584566 * fsr_force\n",
        "\n",
        "# Use threshold values to create binary predictions\n",
        "threshold = 30\n",
        "binary_predictions = threshold > threshold\n",
        "\n",
        "# Add predictions to the DataFrame\n",
        "df['predictions'] = binary_predictions.astype(int)\n",
        "\n",
        "# Display the DataFrame with predictions\n",
        "print(df[['fsr_1', 'fsr_2', 'fsr_3', 'fsr_4', 'fsr_5', 'ground_truth', 'predictions']])\n",
        "\n",
        "# Calculate accuracy\n",
        "accuracy = sum(df['predictions'] == df['ground_truth']) / len(df)\n",
        "\n",
        "# Calculate precision\n",
        "true_positives = sum((df['predictions'] == 1) & (df['ground_truth'] == 1))\n",
        "false_positives = sum((df['predictions'] == 1) & (df['ground_truth'] == 0))\n",
        "precision = true_positives / (true_positives + false_positives) if (true_positives + false_positives) > 0 else 0\n",
        "\n",
        "# Display results\n",
        "print(f\"Accuracy: {accuracy:.2%}\")\n",
        "print(f\"Precision: {precision:.2%}\")\n",
        "print(fsr_mmHG)"
      ],
      "metadata": {
        "id": "T1Z7AZNnHeqr"
      },
      "execution_count": null,
      "outputs": []
    }
  ]
}